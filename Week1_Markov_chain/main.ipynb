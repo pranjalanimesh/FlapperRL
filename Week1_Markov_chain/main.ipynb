{
 "cells": [
  {
   "cell_type": "code",
   "execution_count": 17,
   "metadata": {},
   "outputs": [
    {
     "name": "stdout",
     "output_type": "stream",
     "text": [
      "Keys:['A', 'B', 'C', 'D']\n",
      "B\n",
      "A\n",
      "A\n",
      "A\n",
      "A\n",
      "A\n",
      "A\n",
      "A\n",
      "A\n",
      "A\n"
     ]
    }
   ],
   "source": [
    "import random\n",
    "\n",
    "# Define the Markov Chain\n",
    "class MarkovChain:\n",
    "    def __init__(self, transition_probs):\n",
    "        self.transition_probs = transition_probs\n",
    "        self.states = list(transition_probs.keys())\n",
    "        print(f'Keys:{self.states}')\n",
    "\n",
    "    def next_state(self, current_state):\n",
    "        # print(list(self.transition_probs[current_state].values()))\n",
    "        # print(random.choices(self.states, weights=self.transition_probs[current_state]))\n",
    "        # print(random.choices(self.states, weights=list(self.transition_probs[current_state].values())))\n",
    "        return random.choices(self.states, weights=list(self.transition_probs[current_state].values()))[0]\n",
    "\n",
    "# Define the transition probabilities\n",
    "transition_probs = {\n",
    "    'A': {'A': 1.0, 'B': 0.0, 'C': 0.0, 'D': 0.0},\n",
    "    'B': {'A': 0.5, 'B': 0.0, 'C': 0.5, 'D': 0.0},\n",
    "    'C': {'A': 0.0, 'B': 0.2, 'C': 0.0, 'D': 0.8},\n",
    "    'D': {'A': 0.0, 'B': 0.0, 'C': 0.0, 'D': 1.0},\n",
    "}\n",
    "\n",
    "# Create the Markov Chain\n",
    "mc = MarkovChain(transition_probs)\n",
    "\n",
    "# Simulate the chain\n",
    "current_state = 'B'\n",
    "for i in range(10):\n",
    "    print(current_state)\n",
    "    current_state = mc.next_state(current_state)"
   ]
  },
  {
   "cell_type": "code",
   "execution_count": 23,
   "metadata": {},
   "outputs": [
    {
     "name": "stdout",
     "output_type": "stream",
     "text": [
      "The probability of reaching state 3 from state 2 in 5 steps is 0.01\n"
     ]
    }
   ],
   "source": [
    "import numpy as np\n",
    "\n",
    "trans_prob = np.array([[1,0,0,0],\n",
    "                       [0.5,0,0.5,0.0],\n",
    "                       [0,0.2,0.0,0.8],\n",
    "                       [0,0,0,1]])\n",
    "\n",
    "# Calculate the probability of reaching state 3 from state 1 in 2 steps\n",
    "i = 1  # starting state\n",
    "j = 2  # target state\n",
    "n = 5  # number of steps\n",
    "prob = np.linalg.matrix_power(trans_prob, n)[i, j]\n",
    "\n",
    "# Print the result\n",
    "print(f\"The probability of reaching state {j+1} from state {i+1} in {n} steps is {prob:.2f}\")"
   ]
  }
 ],
 "metadata": {
  "kernelspec": {
   "display_name": "Python 3",
   "language": "python",
   "name": "python3"
  },
  "language_info": {
   "codemirror_mode": {
    "name": "ipython",
    "version": 3
   },
   "file_extension": ".py",
   "mimetype": "text/x-python",
   "name": "python",
   "nbconvert_exporter": "python",
   "pygments_lexer": "ipython3",
   "version": "3.10.2"
  },
  "orig_nbformat": 4
 },
 "nbformat": 4,
 "nbformat_minor": 2
}
